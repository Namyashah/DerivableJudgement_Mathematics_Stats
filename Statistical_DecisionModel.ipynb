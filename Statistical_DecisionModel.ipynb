{
 "cells": [
  {
   "cell_type": "code",
   "execution_count": 51,
   "id": "d28a00e5",
   "metadata": {},
   "outputs": [],
   "source": [
    "import numpy as np\n",
    "import pandas as pd\n",
    "import matplotlib.pyplot as plt\n",
    "import seaborn as sns\n",
    "from scipy import stats"
   ]
  },
  {
   "cell_type": "markdown",
   "id": "21b21574",
   "metadata": {},
   "source": [
    "## Derivable Judgement: A Statistical Decision-Making Model"
   ]
  },
  {
   "cell_type": "markdown",
   "id": "4b22f7c9",
   "metadata": {},
   "source": [
    "Part - B (Data Analysis And Testing Tasks)"
   ]
  },
  {
   "cell_type": "code",
   "execution_count": 52,
   "id": "cd1b67b8",
   "metadata": {},
   "outputs": [
    {
     "data": {
      "text/html": [
       "<div>\n",
       "<style scoped>\n",
       "    .dataframe tbody tr th:only-of-type {\n",
       "        vertical-align: middle;\n",
       "    }\n",
       "\n",
       "    .dataframe tbody tr th {\n",
       "        vertical-align: top;\n",
       "    }\n",
       "\n",
       "    .dataframe thead th {\n",
       "        text-align: right;\n",
       "    }\n",
       "</style>\n",
       "<table border=\"1\" class=\"dataframe\">\n",
       "  <thead>\n",
       "    <tr style=\"text-align: right;\">\n",
       "      <th></th>\n",
       "      <th>record_id</th>\n",
       "      <th>age_group</th>\n",
       "      <th>age</th>\n",
       "      <th>gender</th>\n",
       "      <th>region</th>\n",
       "      <th>smoking_status</th>\n",
       "      <th>exercise_frequency</th>\n",
       "      <th>bmi</th>\n",
       "      <th>blood_pressure</th>\n",
       "      <th>diabetes</th>\n",
       "      <th>hypertension</th>\n",
       "      <th>cholesterol_level</th>\n",
       "      <th>glucose_level</th>\n",
       "      <th>visit_date</th>\n",
       "    </tr>\n",
       "  </thead>\n",
       "  <tbody>\n",
       "    <tr>\n",
       "      <th>0</th>\n",
       "      <td>1</td>\n",
       "      <td>46-60</td>\n",
       "      <td>48</td>\n",
       "      <td>Male</td>\n",
       "      <td>North</td>\n",
       "      <td>Former Smoker</td>\n",
       "      <td>Rarely</td>\n",
       "      <td>24.2</td>\n",
       "      <td>135</td>\n",
       "      <td>False</td>\n",
       "      <td>False</td>\n",
       "      <td>169.8</td>\n",
       "      <td>106.0</td>\n",
       "      <td>2023-08-12</td>\n",
       "    </tr>\n",
       "    <tr>\n",
       "      <th>1</th>\n",
       "      <td>2</td>\n",
       "      <td>46-60</td>\n",
       "      <td>48</td>\n",
       "      <td>Female</td>\n",
       "      <td>South</td>\n",
       "      <td>Non-Smoker</td>\n",
       "      <td>Rarely</td>\n",
       "      <td>26.3</td>\n",
       "      <td>115</td>\n",
       "      <td>False</td>\n",
       "      <td>False</td>\n",
       "      <td>120.0</td>\n",
       "      <td>84.8</td>\n",
       "      <td>2024-02-18</td>\n",
       "    </tr>\n",
       "    <tr>\n",
       "      <th>2</th>\n",
       "      <td>3</td>\n",
       "      <td>60+</td>\n",
       "      <td>71</td>\n",
       "      <td>Male</td>\n",
       "      <td>East</td>\n",
       "      <td>Non-Smoker</td>\n",
       "      <td>Daily</td>\n",
       "      <td>25.8</td>\n",
       "      <td>130</td>\n",
       "      <td>False</td>\n",
       "      <td>True</td>\n",
       "      <td>196.4</td>\n",
       "      <td>107.8</td>\n",
       "      <td>2024-12-26</td>\n",
       "    </tr>\n",
       "    <tr>\n",
       "      <th>3</th>\n",
       "      <td>4</td>\n",
       "      <td>46-60</td>\n",
       "      <td>57</td>\n",
       "      <td>Female</td>\n",
       "      <td>West</td>\n",
       "      <td>Non-Smoker</td>\n",
       "      <td>Weekly</td>\n",
       "      <td>27.0</td>\n",
       "      <td>104</td>\n",
       "      <td>True</td>\n",
       "      <td>False</td>\n",
       "      <td>175.4</td>\n",
       "      <td>114.3</td>\n",
       "      <td>2024-01-06</td>\n",
       "    </tr>\n",
       "    <tr>\n",
       "      <th>4</th>\n",
       "      <td>5</td>\n",
       "      <td>46-60</td>\n",
       "      <td>46</td>\n",
       "      <td>Male</td>\n",
       "      <td>North</td>\n",
       "      <td>Former Smoker</td>\n",
       "      <td>Weekly</td>\n",
       "      <td>23.6</td>\n",
       "      <td>106</td>\n",
       "      <td>False</td>\n",
       "      <td>False</td>\n",
       "      <td>261.5</td>\n",
       "      <td>81.8</td>\n",
       "      <td>2025-01-17</td>\n",
       "    </tr>\n",
       "    <tr>\n",
       "      <th>...</th>\n",
       "      <td>...</td>\n",
       "      <td>...</td>\n",
       "      <td>...</td>\n",
       "      <td>...</td>\n",
       "      <td>...</td>\n",
       "      <td>...</td>\n",
       "      <td>...</td>\n",
       "      <td>...</td>\n",
       "      <td>...</td>\n",
       "      <td>...</td>\n",
       "      <td>...</td>\n",
       "      <td>...</td>\n",
       "      <td>...</td>\n",
       "      <td>...</td>\n",
       "    </tr>\n",
       "    <tr>\n",
       "      <th>1995</th>\n",
       "      <td>1996</td>\n",
       "      <td>36-45</td>\n",
       "      <td>43</td>\n",
       "      <td>Female</td>\n",
       "      <td>West</td>\n",
       "      <td>Smoker</td>\n",
       "      <td>Weekly</td>\n",
       "      <td>28.8</td>\n",
       "      <td>129</td>\n",
       "      <td>False</td>\n",
       "      <td>True</td>\n",
       "      <td>230.7</td>\n",
       "      <td>118.1</td>\n",
       "      <td>2024-05-15</td>\n",
       "    </tr>\n",
       "    <tr>\n",
       "      <th>1996</th>\n",
       "      <td>1997</td>\n",
       "      <td>46-60</td>\n",
       "      <td>50</td>\n",
       "      <td>Male</td>\n",
       "      <td>North</td>\n",
       "      <td>Non-Smoker</td>\n",
       "      <td>Weekly</td>\n",
       "      <td>24.3</td>\n",
       "      <td>130</td>\n",
       "      <td>False</td>\n",
       "      <td>False</td>\n",
       "      <td>235.4</td>\n",
       "      <td>70.6</td>\n",
       "      <td>2024-08-16</td>\n",
       "    </tr>\n",
       "    <tr>\n",
       "      <th>1997</th>\n",
       "      <td>1998</td>\n",
       "      <td>46-60</td>\n",
       "      <td>60</td>\n",
       "      <td>Female</td>\n",
       "      <td>South</td>\n",
       "      <td>Smoker</td>\n",
       "      <td>Weekly</td>\n",
       "      <td>22.4</td>\n",
       "      <td>131</td>\n",
       "      <td>False</td>\n",
       "      <td>True</td>\n",
       "      <td>182.3</td>\n",
       "      <td>88.1</td>\n",
       "      <td>2024-09-18</td>\n",
       "    </tr>\n",
       "    <tr>\n",
       "      <th>1998</th>\n",
       "      <td>1999</td>\n",
       "      <td>46-60</td>\n",
       "      <td>57</td>\n",
       "      <td>Male</td>\n",
       "      <td>East</td>\n",
       "      <td>Non-Smoker</td>\n",
       "      <td>Weekly</td>\n",
       "      <td>31.0</td>\n",
       "      <td>133</td>\n",
       "      <td>False</td>\n",
       "      <td>True</td>\n",
       "      <td>188.3</td>\n",
       "      <td>83.1</td>\n",
       "      <td>2024-06-24</td>\n",
       "    </tr>\n",
       "    <tr>\n",
       "      <th>1999</th>\n",
       "      <td>2000</td>\n",
       "      <td>18-25</td>\n",
       "      <td>18</td>\n",
       "      <td>Female</td>\n",
       "      <td>West</td>\n",
       "      <td>Smoker</td>\n",
       "      <td>Weekly</td>\n",
       "      <td>16.6</td>\n",
       "      <td>111</td>\n",
       "      <td>False</td>\n",
       "      <td>False</td>\n",
       "      <td>120.0</td>\n",
       "      <td>113.5</td>\n",
       "      <td>2023-10-01</td>\n",
       "    </tr>\n",
       "  </tbody>\n",
       "</table>\n",
       "<p>2000 rows × 14 columns</p>\n",
       "</div>"
      ],
      "text/plain": [
       "      record_id age_group  age  gender region smoking_status  \\\n",
       "0             1     46-60   48    Male  North  Former Smoker   \n",
       "1             2     46-60   48  Female  South     Non-Smoker   \n",
       "2             3       60+   71    Male   East     Non-Smoker   \n",
       "3             4     46-60   57  Female   West     Non-Smoker   \n",
       "4             5     46-60   46    Male  North  Former Smoker   \n",
       "...         ...       ...  ...     ...    ...            ...   \n",
       "1995       1996     36-45   43  Female   West         Smoker   \n",
       "1996       1997     46-60   50    Male  North     Non-Smoker   \n",
       "1997       1998     46-60   60  Female  South         Smoker   \n",
       "1998       1999     46-60   57    Male   East     Non-Smoker   \n",
       "1999       2000     18-25   18  Female   West         Smoker   \n",
       "\n",
       "     exercise_frequency   bmi  blood_pressure  diabetes  hypertension  \\\n",
       "0                Rarely  24.2             135     False         False   \n",
       "1                Rarely  26.3             115     False         False   \n",
       "2                 Daily  25.8             130     False          True   \n",
       "3                Weekly  27.0             104      True         False   \n",
       "4                Weekly  23.6             106     False         False   \n",
       "...                 ...   ...             ...       ...           ...   \n",
       "1995             Weekly  28.8             129     False          True   \n",
       "1996             Weekly  24.3             130     False         False   \n",
       "1997             Weekly  22.4             131     False          True   \n",
       "1998             Weekly  31.0             133     False          True   \n",
       "1999             Weekly  16.6             111     False         False   \n",
       "\n",
       "      cholesterol_level  glucose_level  visit_date  \n",
       "0                 169.8          106.0  2023-08-12  \n",
       "1                 120.0           84.8  2024-02-18  \n",
       "2                 196.4          107.8  2024-12-26  \n",
       "3                 175.4          114.3  2024-01-06  \n",
       "4                 261.5           81.8  2025-01-17  \n",
       "...                 ...            ...         ...  \n",
       "1995              230.7          118.1  2024-05-15  \n",
       "1996              235.4           70.6  2024-08-16  \n",
       "1997              182.3           88.1  2024-09-18  \n",
       "1998              188.3           83.1  2024-06-24  \n",
       "1999              120.0          113.5  2023-10-01  \n",
       "\n",
       "[2000 rows x 14 columns]"
      ]
     },
     "execution_count": 52,
     "metadata": {},
     "output_type": "execute_result"
    }
   ],
   "source": [
    "# Dataset Loaded Into This File To Perform The Following Statistical Operations.\n",
    "health_data = pd.read_csv(\"healthcare_dataset_2000.csv\")\n",
    "health_data"
   ]
  },
  {
   "cell_type": "markdown",
   "id": "671a8d3e",
   "metadata": {},
   "source": [
    "#### 1) Formulate at least two hypotheses from the dataset."
   ]
  },
  {
   "cell_type": "markdown",
   "id": "6c7072bf",
   "metadata": {},
   "source": [
    "Example 1 :\n",
    "\n",
    "Null Hypothesis(H₀) : 👉 Smoking status has no effect on the prevalence of Diabetes.\n",
    "\n",
    "Alternate Hypothesis(H₁) : 👉 Smoking status affects the prevalence of Diabetes."
   ]
  },
  {
   "cell_type": "markdown",
   "id": "f6eac9a4",
   "metadata": {},
   "source": [
    "Example 2 :\n",
    "\n",
    "Null Hypothesis(H₀) : 👉 There is no correlation between Age and BMI.\n",
    "\n",
    "Alternate Hypothesis(H₁) : 👉 There is a significant correlation between Age and BMI."
   ]
  },
  {
   "cell_type": "markdown",
   "id": "3bfa78b8",
   "metadata": {},
   "source": [
    "#### 2) Calculate Confidence Intervals for key numerical data like age, weight, etc."
   ]
  },
  {
   "cell_type": "code",
   "execution_count": 53,
   "id": "cbde8b65",
   "metadata": {},
   "outputs": [],
   "source": [
    "# Taken A Sample Of 200 From The health Data To Find Out Confidence Interval Range For Age Columns.\n",
    "np.random.seed(40)\n",
    "sample_age = np.random.choice(health_data[\"age\"],size=200)"
   ]
  },
  {
   "cell_type": "code",
   "execution_count": 54,
   "id": "cc79755b",
   "metadata": {},
   "outputs": [
    {
     "name": "stdout",
     "output_type": "stream",
     "text": [
      "The Sample Mean Of Age Is : 45.415\n",
      "The Sample Standard Deviation of Age Is : 14.78\n"
     ]
    }
   ],
   "source": [
    "# Sample Mean\n",
    "sample_mean = sum(sample_age)/len(sample_age)\n",
    "print(f\"The Sample Mean Of Age Is : {sample_mean}\")\n",
    "\n",
    "# Sample Standard Deviation\n",
    "numerator = 0\n",
    "for i in sample_age:\n",
    "    numerator = numerator + ((i - sample_mean)**2)\n",
    "sample_standard_deviation = np.sqrt(numerator/(len(sample_age) - 1))\n",
    "print(f\"The Sample Standard Deviation of Age Is : {sample_standard_deviation:.2f}\")"
   ]
  },
  {
   "cell_type": "code",
   "execution_count": 55,
   "id": "7e945fd1",
   "metadata": {},
   "outputs": [
    {
     "name": "stdout",
     "output_type": "stream",
     "text": [
      "95% Confidence Range Is : [43.35,47.48]\n"
     ]
    }
   ],
   "source": [
    "# Finding Confidence Interval Range\n",
    "confidence = 0.95\n",
    "df = len(sample_age) - 1\n",
    "t_critical_value = 1.971 # This Value Has Came From The t-table From Df(degree of Freedom) And Alpha=0.05\n",
    "margin_of_error = t_critical_value * (sample_standard_deviation/np.sqrt(len(sample_age)))\n",
    "lower_bound = sample_mean - margin_of_error\n",
    "upper_bound = sample_mean + margin_of_error\n",
    "print(f\"95% Confidence Range Is : [{lower_bound:.2f},{upper_bound:.2f}]\")"
   ]
  },
  {
   "cell_type": "markdown",
   "id": "7014b990",
   "metadata": {},
   "source": [
    "#### 3) Find the Critical Value and p-value to interpret the test results."
   ]
  },
  {
   "cell_type": "markdown",
   "id": "03ff3299",
   "metadata": {},
   "source": [
    "##### The critical value and p-value depend on the statistical test performed. I will provide these for each test (z-test/t-test, chi-square, ANOVA) in their respective sections below.\n",
    "\n",
    "##### For all tests, I will use a significance level of alpha = 0.05."
   ]
  },
  {
   "cell_type": "code",
   "execution_count": 56,
   "id": "05cb6a58",
   "metadata": {},
   "outputs": [],
   "source": [
    "alpha = 0.05"
   ]
  },
  {
   "cell_type": "markdown",
   "id": "a1ff7ef0",
   "metadata": {},
   "source": [
    "#### 4) Perform z-test or t-test based on sample size (mean comparison across groups)."
   ]
  },
  {
   "cell_type": "markdown",
   "id": "8e3806d9",
   "metadata": {},
   "source": [
    "T-Test\n",
    "\n",
    "Variable: BMI (Body Mass Index).\n",
    "\n",
    "Groups: Individuals with diabetes vs. individuals without diabetes.\n",
    "\n",
    "Hypotheses:\n",
    "\n",
    "Null Hypothesis (H₀): 👉 The mean BMI of individuals with diabetes equals the mean BMI of individuals without diabetes (mu_1 = mu_2).\n",
    "\n",
    "Alternative Hypothesis (H₁): 👉 The mean BMI of individuals with diabetes differs from the mean BMI of individuals without diabetes (mu_1 <> mu_2)."
   ]
  },
  {
   "cell_type": "code",
   "execution_count": 57,
   "id": "df56e4bd",
   "metadata": {},
   "outputs": [
    {
     "name": "stdout",
     "output_type": "stream",
     "text": [
      "The Sample Mean Of Diabetic Group Is : 26.71\n",
      "The Sample Mean Of Non-Diabetic Group Is : 25.25\n",
      "The Sample Standard Deviation Of Diabetic People Is : 4.49\n",
      "The Sample Standard Deviation Of Diabetic People Is : 4.08\n"
     ]
    }
   ],
   "source": [
    "# Randoml Sample Of 200 Records.\n",
    "sample_data = health_data.sample(n=200,random_state=42)\n",
    "\n",
    "# Split Into Diabetic And Non Diabetic Groups\n",
    "diabetic = sample_data[sample_data[\"diabetes\"] == True][\"bmi\"]\n",
    "non_diabetic = sample_data[sample_data[\"diabetes\"] == False][\"bmi\"]\n",
    "\n",
    "# Calculate Sample Statistics.\n",
    "# Sample Mean Of Diabetic People And Non-Diabetic.\n",
    "sample_mean_diabetic = sum(diabetic)/len(diabetic)\n",
    "sample_mean_non_diabetic = sum(non_diabetic)/len(non_diabetic)\n",
    "\n",
    "# Sample Standard deviation Of Diabetic People.\n",
    "numerator = 0\n",
    "for i in diabetic:\n",
    "    numerator = numerator + ((i - sample_mean_diabetic)**2)\n",
    "sample_standard_deviation_diabetic = np.sqrt(numerator/(len(diabetic) - 1))\n",
    "\n",
    "# Sample Standard deviation Of Diabetic People.\n",
    "numerator = 0\n",
    "for i in non_diabetic:\n",
    "    numerator = numerator + ((i - sample_mean_non_diabetic)**2)\n",
    "sample_standard_deviation_non_diabetic = np.sqrt(numerator/(len(non_diabetic) - 1))\n",
    "\n",
    "print(f\"The Sample Mean Of Diabetic Group Is : {sample_mean_diabetic:.2f}\")\n",
    "print(f\"The Sample Mean Of Non-Diabetic Group Is : {sample_mean_non_diabetic:.2f}\")\n",
    "print(f\"The Sample Standard Deviation Of Diabetic People Is : {sample_standard_deviation_diabetic:.2f}\")\n",
    "print(f\"The Sample Standard Deviation Of Diabetic People Is : {sample_standard_deviation_non_diabetic:.2f}\")"
   ]
  },
  {
   "cell_type": "code",
   "execution_count": 58,
   "id": "12cf60e8",
   "metadata": {},
   "outputs": [
    {
     "name": "stdout",
     "output_type": "stream",
     "text": [
      "Variance of Diabetic People : 19.62\n",
      "Variance of Non Diabetic People : 16.54\n",
      "The T-Value is : 1.88\n",
      "The Df Is : 1128.61\n",
      "The Critical Value Is : 1.9623\n",
      "======================================\n",
      "Conclusion\n",
      "\n",
      "We Fail To Reject The Null Hypothesis!\n",
      "Interpretation: There is not sufficient evidence to suggest that the mean BMI of individuals with diabetes is significantly different from the mean BMI of individuals without diabetes.\n",
      "======================================\n"
     ]
    }
   ],
   "source": [
    "# Calculating Two Sample T-Test\n",
    "# If variances Are Equal Then We Will Use (Pooled t-test) And If Unequal We Will Use (Welch's t-test)\n",
    "print(f\"Variance of Diabetic People : {np.var(diabetic):.2f}\")\n",
    "print(f\"Variance of Non Diabetic People : {np.var(non_diabetic):.2f}\")\n",
    "\n",
    "# Sample Size.\n",
    "n1 = len(diabetic)\n",
    "n2 = len(non_diabetic)\n",
    "\n",
    "# As Both Are Not Equal We Will Use Welch's T-test.\n",
    "denominator = np.sqrt(((sample_standard_deviation_diabetic)**2/n1) + ((sample_standard_deviation_non_diabetic)**2/n2))\n",
    "\n",
    "t_value = (sample_mean_diabetic - sample_mean_non_diabetic)/denominator\n",
    "print(f\"The T-Value is : {t_value:.2f}\")\n",
    "\n",
    "df_numerator = (((sample_standard_deviation_diabetic)**2/n1) + ((sample_standard_deviation_non_diabetic)**2/n2))**2\n",
    "df_denominator = ((sample_standard_deviation_diabetic/n1)**2/(n1 - 1)) + ((sample_standard_deviation_non_diabetic/n2)**2/(n2 - 1))\n",
    "df = df_numerator/df_denominator\n",
    "print(f\"The Df Is : {df:.2f}\")\n",
    "\n",
    "t_critical_value = 1.9623 # The Critical Value has Been Taken From T-table With Alpha And Df(degree Of Freedom)\n",
    "print(f\"The Critical Value Is : {t_critical_value}\")\n",
    "print(\"======================================\")\n",
    "\n",
    "if t_value > t_critical_value:\n",
    "    print(\"Conclusion\\n\")\n",
    "    print(f\"We Reject The Null Hypothesis!\")\n",
    "    print(f\"Interpretation: There is sufficient evidence to suggest that the mean BMI of individuals with diabetes is significantly different from the mean BMI of individuals without diabetes.\")\n",
    "    print(\"======================================\")\n",
    "else:\n",
    "    print(\"Conclusion\\n\")\n",
    "    print(f\"We Fail To Reject The Null Hypothesis!\")\n",
    "    print(f\"Interpretation: There is not sufficient evidence to suggest that the mean BMI of individuals with diabetes is significantly different from the mean BMI of individuals without diabetes.\")\n",
    "    print(\"======================================\")"
   ]
  },
  {
   "cell_type": "markdown",
   "id": "836cf9d3",
   "metadata": {},
   "source": [
    "#### 5) Conduct a chi-square test on categorical data (e.g., Smoking habit vs Disease)."
   ]
  },
  {
   "cell_type": "markdown",
   "id": "96405942",
   "metadata": {},
   "source": [
    "Chi-Square Test\n",
    "\n",
    "Hypotheses:\n",
    "\n",
    "Null Hypothesis (H₀): 👉 There is no association between smoking status and diabetes status (i.e., the variables are independent)\n",
    "\n",
    "Alternative Hypothesis (H₁): 👉 There is an association between smoking status and diabetes status (i.e., the variables are not independent)."
   ]
  },
  {
   "cell_type": "code",
   "execution_count": 59,
   "id": "93519f66",
   "metadata": {},
   "outputs": [
    {
     "name": "stdout",
     "output_type": "stream",
     "text": [
      "Groups Table\n",
      "smoking_status  Former Smoker  Non-Smoker  Smoker\n",
      "diabetes                                         \n",
      "False                      31          93      36\n",
      "True                        5          27       8\n",
      "=================================================\n",
      "Expected Frequencies Table\n",
      "smoking_status  Former Smoker  Non-Smoker  Smoker\n",
      "diabetes                                         \n",
      "False                    28.8        96.0    35.2\n",
      "True                      7.2        24.0     8.8\n"
     ]
    }
   ],
   "source": [
    "# Random Sample Of 200 records.\n",
    "sample_data1 = health_data.sample(n=200,random_state=42)\n",
    "\n",
    "# Create a contingency table for smoking_status and diabetes.\n",
    "contingency_table = pd.crosstab(sample_data1[\"diabetes\"],sample_data1[\"smoking_status\"])\n",
    "print(\"Groups Table\")\n",
    "print(contingency_table)\n",
    "\n",
    "# Computing Expected Frequencies Of both smoking_status And Diabetes.\n",
    "row_total = contingency_table.sum(axis=1)\n",
    "column_total = contingency_table.sum(axis=0)\n",
    "grand_total = contingency_table.values.sum()\n",
    "\n",
    "# Calculating Expected Frequencies With Outer Functions.\n",
    "expected_fre = np.outer(row_total,column_total)/grand_total\n",
    "expected_df = pd.DataFrame(expected_fre, columns=contingency_table.columns, index=contingency_table.index)\n",
    "print(\"=================================================\")\n",
    "print(\"Expected Frequencies Table\")\n",
    "print(expected_df)"
   ]
  },
  {
   "cell_type": "code",
   "execution_count": 60,
   "id": "7cf6afee",
   "metadata": {},
   "outputs": [
    {
     "name": "stdout",
     "output_type": "stream",
     "text": [
      "The Chi2 Value Is : 1.40\n",
      "The df Is : 2\n",
      "=============================================================================================\n",
      "Conclusion\n",
      "\n",
      "We Fail To Reject The Null Hypothesis\n",
      "Interpretation : There is No Association between The Diabetes And Smokong status!\n"
     ]
    }
   ],
   "source": [
    "# Calculating Chi-Square Test\n",
    "chi2_stat = ((contingency_table.values - expected_fre)**2/expected_fre).sum()\n",
    "print(f\"The Chi2 Value Is : {chi2_stat:.2f}\")\n",
    "\n",
    "# Calculating Degree of Freedim For P Value or F-critical Value.\n",
    "degree_of_freedom = (contingency_table.shape[0] - 1) * (contingency_table.shape[1] - 1)\n",
    "print(f\"The df Is : {degree_of_freedom}\")\n",
    "\n",
    "# Calculating Critical Value From Chi square table.\n",
    "critical_value = 5.99 # Taken From Chi Square Table\n",
    "\n",
    "if chi2_stat > critical_value:\n",
    "    print(\"=============================================================================================\")\n",
    "    print(\"Conclusion\\n\")\n",
    "    print(\"We Reject The Null Hypothesis\")\n",
    "    print(\"Interpretation : There is A Strong Association between The Diabetes And Smokong status!\")\n",
    "else:\n",
    "    print(\"=============================================================================================\")\n",
    "    print(\"Conclusion\\n\")\n",
    "    print(\"We Fail To Reject The Null Hypothesis\")\n",
    "    print(\"Interpretation : There is No Association between The Diabetes And Smokong status!\")"
   ]
  },
  {
   "cell_type": "markdown",
   "id": "a76deb82",
   "metadata": {},
   "source": [
    "#### 6) Perform an ANOVA test to check if age groups significantly differ in disease rate."
   ]
  },
  {
   "cell_type": "markdown",
   "id": "2c32a1b8",
   "metadata": {},
   "source": [
    "ONE-WAY ANOVA Test\n",
    "\n",
    "Hypotheses:\n",
    "\n",
    "Null Hypothesis (H₀): 👉 The mean BMI is equal across all age groups (μ₁ = μ₂ = μ₃).\n",
    "\n",
    "Alternative Hypothesis (H₁): 👉 At least one age group has a different mean BMI compared to the others.\n",
    "\n",
    "We’ll use a one-way ANOVA test with a significance level (α) of 0.05."
   ]
  },
  {
   "cell_type": "code",
   "execution_count": 61,
   "id": "3e7020ac",
   "metadata": {},
   "outputs": [
    {
     "name": "stdout",
     "output_type": "stream",
     "text": [
      "[array([0, 0, 1, 0, 0, 0, 0, 1, 0, 1, 0, 0, 1, 0, 0, 1, 0, 0, 0, 0, 1, 0,\n",
      "       0, 0, 0, 0, 0, 1, 1]), array([0, 0, 0, 1, 0, 0, 1, 0, 0, 1, 1, 1, 0, 0, 0, 0, 1, 0, 0, 1, 0, 1,\n",
      "       0, 1, 0, 0, 1, 0, 0, 0, 0, 0, 0, 0, 0, 0, 0, 1, 0, 0, 0, 0, 0, 0,\n",
      "       0, 1, 0, 0, 0, 0, 0, 0, 0, 1, 0, 1, 0, 1, 1, 0, 0, 0, 0, 0, 0, 0,\n",
      "       0, 0]), array([0, 0, 0, 0, 0, 0, 0, 0, 0, 0, 0, 0, 0, 0, 0, 0, 0, 1, 0, 0, 0, 0,\n",
      "       0, 1, 0, 1, 0, 0, 0, 1, 0, 0, 0, 0, 0, 0, 1, 1, 1, 0, 1, 0, 0, 0,\n",
      "       0, 0, 0, 0, 0, 0, 1, 0, 0, 0, 0, 0, 1, 0, 0, 0, 0, 0, 0, 0, 0, 1,\n",
      "       0, 0, 0, 0, 0]), array([0, 0, 0, 0, 0, 0, 0, 0, 0, 0, 0, 1, 0, 1, 0, 0, 0, 0, 0, 0, 0, 1,\n",
      "       0, 0, 0, 1, 0, 0, 0, 0, 0, 1])]\n"
     ]
    }
   ],
   "source": [
    "# Randomly sample 200 records\n",
    "sampled_data = health_data.sample(n=200, random_state=42)\n",
    "\n",
    "# Convert diabetes to numeric (1 = has disease, 0 = no disease)\n",
    "sampled_data[\"diabetes_int\"] = sampled_data[\"diabetes\"].astype(int)\n",
    "\n",
    "# Make age groups\n",
    "bins = [0, 30, 45, 60, 100]\n",
    "labels = [\"<30\", \"30-45\", \"45-60\", \"60+\"]\n",
    "sampled_data[\"age_group\"] = pd.cut(sampled_data[\"age\"], bins=bins, labels=labels, right=False)\n",
    "\n",
    "# Separate into lists\n",
    "groups = []\n",
    "for label in labels:\n",
    "    group_values = sampled_data[sampled_data[\"age_group\"] == label][\"diabetes_int\"].values\n",
    "    groups.append(group_values)\n",
    "print(groups)"
   ]
  },
  {
   "cell_type": "code",
   "execution_count": 62,
   "id": "7d1534c5",
   "metadata": {},
   "outputs": [
    {
     "name": "stdout",
     "output_type": "stream",
     "text": [
      "The Overall Mean Is : 0.2\n"
     ]
    }
   ],
   "source": [
    "# Step 1: Compute group means and overall mean\n",
    "all_values = []\n",
    "for g in groups:\n",
    "    all_values.extend(g)\n",
    "overall_mean = np.mean(all_values)\n",
    "print(f\"The Overall Mean Is : {overall_mean}\")"
   ]
  },
  {
   "cell_type": "code",
   "execution_count": 63,
   "id": "c455c799",
   "metadata": {},
   "outputs": [
    {
     "name": "stdout",
     "output_type": "stream",
     "text": [
      "\n",
      "Sum of Squares Between (SSB): 0.46\n",
      "Sum of Squares Within (SSW): 31.54\n"
     ]
    }
   ],
   "source": [
    "# Step 2: Compute Sum of Squares Between (SSB)\n",
    "SSB = 0\n",
    "for g in groups:\n",
    "    SSB += len(g) * (np.mean(g) - overall_mean) ** 2\n",
    "\n",
    "# Step 3: Compute Sum of Squares Within (SSW)\n",
    "SSW = 0\n",
    "for g in groups:\n",
    "    for x in g:\n",
    "        SSW += (x - np.mean(g)) ** 2\n",
    "print(f\"\\nSum of Squares Between (SSB): {SSB:.2f}\")\n",
    "print(f\"Sum of Squares Within (SSW): {SSW:.2f}\")"
   ]
  },
  {
   "cell_type": "code",
   "execution_count": 64,
   "id": "2cb6d672",
   "metadata": {},
   "outputs": [
    {
     "name": "stdout",
     "output_type": "stream",
     "text": [
      "Degrees of Freedom: Between = 3\n",
      "Degrees of Freedom: Within = 196\n"
     ]
    }
   ],
   "source": [
    "# Step 4: Compute degrees of freedom\n",
    "df_between = len(groups) - 1\n",
    "df_within = len(all_values) - len(groups)\n",
    "print(f\"Degrees of Freedom: Between = {df_between}\")\n",
    "print(f\"Degrees of Freedom: Within = {df_within}\")"
   ]
  },
  {
   "cell_type": "code",
   "execution_count": 65,
   "id": "e50bab80",
   "metadata": {},
   "outputs": [
    {
     "name": "stdout",
     "output_type": "stream",
     "text": [
      "Mean Square Between (MSB): 0.15\n",
      "Mean Square Within (MSW): 0.16\n"
     ]
    }
   ],
   "source": [
    "# Step 5: Compute Mean Squares\n",
    "MSB = SSB / df_between\n",
    "MSW = SSW / df_within\n",
    "print(f\"Mean Square Between (MSB): {MSB:.2f}\")\n",
    "print(f\"Mean Square Within (MSW): {MSW:.2f}\")"
   ]
  },
  {
   "cell_type": "code",
   "execution_count": 66,
   "id": "9e8f0555",
   "metadata": {},
   "outputs": [
    {
     "name": "stdout",
     "output_type": "stream",
     "text": [
      "F-Statistic: 0.95\n"
     ]
    }
   ],
   "source": [
    "# Step 6: Compute F-statistic\n",
    "f_stat = MSB / MSW\n",
    "print(f\"F-Statistic: {f_stat:.2f}\")"
   ]
  },
  {
   "cell_type": "code",
   "execution_count": 67,
   "id": "b1372623",
   "metadata": {},
   "outputs": [
    {
     "name": "stdout",
     "output_type": "stream",
     "text": [
      "Critical Value (α = 0.05): 2.60\n",
      "============================================================\n",
      "Conclusion\n",
      "\n",
      "We Fail to Reject The Null Hypothesis.\n",
      "Interpretation: There is not sufficient evidence to suggest that mean BMI differs significantly across age groups.\n"
     ]
    }
   ],
   "source": [
    "# Step 7: Compute p-value and critical value\n",
    "critical_value = 2.60 # Taken From F-Table\n",
    "print(f\"Critical Value (α = 0.05): {critical_value:.2f}\")\n",
    "\n",
    "# Interpret results\n",
    "if f_stat > critical_value:\n",
    "    print(\"============================================================\")\n",
    "    print(\"Conclusion\\n\")\n",
    "    print(\"We Will Reject the Null Hypothesis.\")\n",
    "    print(\"Interpretation: There is sufficient evidence to suggest that mean BMI differs significantly across age groups.\")\n",
    "else:\n",
    "    print(\"============================================================\")\n",
    "    print(\"Conclusion\\n\")\n",
    "    print(\"We Fail to Reject The Null Hypothesis.\")\n",
    "    print(\"Interpretation: There is not sufficient evidence to suggest that mean BMI differs significantly across age groups.\")"
   ]
  },
  {
   "cell_type": "markdown",
   "id": "6e6132da",
   "metadata": {},
   "source": [
    "#### 7) Calculate Covariance and Correlation between continuous variables (e.g., Age vs. BMI)."
   ]
  },
  {
   "cell_type": "markdown",
   "id": "c1f5d8c4",
   "metadata": {},
   "source": [
    "Null Hypothesis (H₀): 👉 There is no linear relationship between age and BMI in the population.\n",
    "\n",
    "Alternative Hypothesis (H₁): 👉 There is a linear relationship between age and BMI in the population."
   ]
  },
  {
   "cell_type": "code",
   "execution_count": 68,
   "id": "57ed9030",
   "metadata": {},
   "outputs": [],
   "source": [
    "# We Will Calculate Covariance And Correlation To Do This Te Steps are Below.\n",
    "# Ramdomly Select sample 200 Records From .sample() Method.\n",
    "sample_data_7 = health_data.sample(n=200,random_state=42)\n",
    "\n",
    "# Extract Age And BMI From The Sample.\n",
    "age = sample_data_7[\"age\"]\n",
    "bmi = sample_data_7[\"bmi\"]\n",
    "# F-statistic: 0.9467\n",
    "# P-value: 0.4191"
   ]
  },
  {
   "cell_type": "code",
   "execution_count": 69,
   "id": "c73f3ebb",
   "metadata": {},
   "outputs": [
    {
     "name": "stdout",
     "output_type": "stream",
     "text": [
      "The Mean Of Age Is : 45.01\n",
      "The Mean Of BMI Is : 45.01\n",
      "The Standard Deviation Of Age Is : 13.95\n",
      "The Standard Deviation Of BMI Is : 4.19\n"
     ]
    }
   ],
   "source": [
    "# Compute Statistics Mean And Standard Deviation.\n",
    "mean_age = sum(age)/len(age)\n",
    "mean_bmi = sum(bmi)/len(bmi)\n",
    "\n",
    "# Standard Deviation For Age.\n",
    "numerator = 0\n",
    "for i in age:\n",
    "    numerator = numerator + ((i - mean_age)**2)\n",
    "age_std = np.sqrt(numerator/(len(age) - 1))\n",
    "\n",
    "# Standard Deviation For BMI.\n",
    "numerator = 0\n",
    "for i in bmi:\n",
    "    numerator = numerator + ((i - mean_bmi)**2)\n",
    "bmi_std = np.sqrt(numerator/(len(bmi) - 1))\n",
    "\n",
    "print(f\"The Mean Of Age Is : {mean_age}\")\n",
    "print(f\"The Mean Of BMI Is : {mean_age}\")\n",
    "print(f\"The Standard Deviation Of Age Is : {age_std:.2f}\")\n",
    "print(f\"The Standard Deviation Of BMI Is : {bmi_std:.2f}\")"
   ]
  },
  {
   "cell_type": "code",
   "execution_count": 70,
   "id": "1f0a42a1",
   "metadata": {},
   "outputs": [
    {
     "name": "stdout",
     "output_type": "stream",
     "text": [
      "The Covariance Is : 2.28\n",
      "The Correlation Is : 0.04\n",
      "Conclusion:\n",
      "\n",
      "Interpretation : There Is a Positive Relationship Between Age And BMI Group:\n",
      "================================================================================\n"
     ]
    }
   ],
   "source": [
    "# Calculation Of Covariance:\n",
    "covariance = sum((x - mean_age)*(i - mean_bmi) for x,i in zip (age,bmi))/(len(age)-1)\n",
    "print(f\"The Covariance Is : {covariance:.2f}\")\n",
    "\n",
    "# From Covariance We Can See That It is Positive So The Data Is Relevant.\n",
    "\n",
    "# Now We Have To Calculate Correlation To See That It Is linear or Not.\n",
    "correlation = covariance/(age_std*bmi_std)\n",
    "print(f\"The Correlation Is : {correlation:.2f}\")\n",
    "\n",
    "if correlation > 0:\n",
    "    print(\"Conclusion:\\n\")\n",
    "    print(\"Interpretation : There Is a Positive Relationship Between Age And BMI Group:\")\n",
    "    print(\"================================================================================\")\n",
    "elif correlation < 0:\n",
    "    print(\"Conclusion:\\n\")\n",
    "    print(\"Interpretation : There Is a Negative Relationship Between Age And BMI Group:\")\n",
    "    print(\"================================================================================\")\n",
    "else:\n",
    "    print(\"Conclusion:\\n\")\n",
    "    print(\"Interpretation : There Is No Relationship Between Age And BMI Group:\")\n",
    "    print(\"================================================================================\")\n"
   ]
  },
  {
   "cell_type": "markdown",
   "id": "56ff3114",
   "metadata": {},
   "source": [
    "<!--  -->"
   ]
  }
 ],
 "metadata": {
  "kernelspec": {
   "display_name": "Python 3",
   "language": "python",
   "name": "python3"
  },
  "language_info": {
   "codemirror_mode": {
    "name": "ipython",
    "version": 3
   },
   "file_extension": ".py",
   "mimetype": "text/x-python",
   "name": "python",
   "nbconvert_exporter": "python",
   "pygments_lexer": "ipython3",
   "version": "3.13.1"
  }
 },
 "nbformat": 4,
 "nbformat_minor": 5
}
